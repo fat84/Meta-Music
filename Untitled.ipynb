{
 "cells": [
  {
   "cell_type": "code",
   "execution_count": 1,
   "metadata": {},
   "outputs": [
    {
     "name": "stderr",
     "output_type": "stream",
     "text": [
      "/usr/local/lib/python3.6/dist-packages/psycopg2/__init__.py:144: UserWarning: The psycopg2 wheel package will be renamed from release 2.8; in order to keep installing from binary please use \"pip install psycopg2-binary\" instead. For details see: <http://initd.org/psycopg/docs/install.html#binary-install-from-pypi>.\n",
      "  \"\"\")\n"
     ]
    }
   ],
   "source": [
    "# Databasse\n",
    "from metamusic import database\n",
    "import multiprocessing\n",
    "import os\n",
    "import traceback\n",
    "import sys\n",
    "from metamusic import decoder\n",
    "from metamusic import fingerprint\n",
    "from sqlalchemy import func\n",
    "from contextlib import contextmanager\n"
   ]
  },
  {
   "cell_type": "code",
   "execution_count": null,
   "metadata": {},
   "outputs": [],
   "source": []
  },
  {
   "cell_type": "code",
   "execution_count": 16,
   "metadata": {},
   "outputs": [],
   "source": [
    "\n",
    "class MetaMusic():\n",
    "    \n",
    "    SONG_ID = \"song_id\"\n",
    "    SONG_NAME = 'song_name'\n",
    "    CONFIDENCE = 'confidence'\n",
    "    MATCH_TIME = 'match_time'\n",
    "    OFFSET = 'offset'\n",
    "    OFFSET_SECS = 'offset_seconds'\n",
    "    \n",
    "    \n",
    "    def __init__(self,limit):\n",
    "        database.delete_unfingerprinted_songs()\n",
    "        self.limit =limit\n",
    "        self.get_fingerprinted_songs()\n",
    "    def get_fingerprinted_songs(self):\n",
    "    # get songs previously indexed\n",
    "        self.songs = database.get_songs()\n",
    "        self.songhashes_set = set()  # to know which ones we've computed before\n",
    "        for song in self.songs:\n",
    "            \n",
    "            song_hash = song.file_sha1\n",
    "            print(song_hash,song.song_name)\n",
    "            self.songhashes_set.add(song_hash.decode())\n",
    "        print(self.songhashes_set)\n",
    "            \n",
    "  \n",
    "    def fingerprint_directory(self, path, extensions, nprocesses=None):\n",
    "\n",
    "        # Try to use the maximum amount of processes if not given.\n",
    "        try:\n",
    "            nprocesses = nprocesses or multiprocessing.cpu_count()\n",
    "\n",
    "        except NotImplementedError:\n",
    "            nprocesses = 1\n",
    "        else:\n",
    "            nprocesses = 1 if nprocesses <= 0 else nprocesses\n",
    "\n",
    "        pool = multiprocessing.Pool(nprocesses)\n",
    "        \n",
    "        filenames_to_fingerprint = []\n",
    "        mp3_file = []\n",
    "        temp_hash = []\n",
    "\n",
    "        for dirpath, dirnames, files in os.walk(path):\n",
    "            for i in files:\n",
    "                if i.endswith('.mp3'):\n",
    "                    mp3_file.append(os.path.join(dirpath, i))\n",
    "        print(mp3_file)\n",
    "        hashes_sha1 = pool.map(decoder.unique_hash, mp3_file)\n",
    "        print(hashes_sha1)\n",
    "        pool.close()\n",
    "        pool.join()\n",
    "\n",
    "        # don't refingerprint already fingerprinted files\n",
    "        for n, i in enumerate(hashes_sha1):\n",
    "\n",
    "            if i in self.songhashes_set:\n",
    "                print(\"%s already fingerprinted, continuing...\" % i)\n",
    "                temp_hash.append(i)\n",
    "                continue\n",
    "\n",
    "            filenames_to_fingerprint.append(mp3_file[n])\n",
    "        for i in temp_hash:\n",
    "            hashes_sha1.remove(i)\n",
    "        print('added')\n",
    "        mp3_file = None\n",
    "        temp_hash = None\n",
    "\n",
    "        # Prepare _fingerprint_worker input\n",
    "        worker_input = zip(filenames_to_fingerprint, [\n",
    "                           self.limit] * len(filenames_to_fingerprint), range(len(hashes_sha1)))\n",
    "        pool = multiprocessing.Pool(nprocesses)\n",
    "\n",
    "        # Send off our tasks\n",
    "        iterator = pool.imap_unordered(_fingerprint_worker, worker_input)\n",
    "   \n",
    "        # Loop till we have all of them\n",
    "        while True:\n",
    "            try:\n",
    "                song_name, hashes, num = iterator.next()\n",
    "            except multiprocessing.TimeoutError:\n",
    "                continue\n",
    "            except StopIteration:\n",
    "                break\n",
    "            except:\n",
    "                print(\"Failed fingerprinting\")\n",
    "                # Print traceback because we can't reraise it here\n",
    "                traceback.print_exc(file=sys.stdout)\n",
    "            else:\n",
    "                database.insert_song(file_hash=hashes_sha1[num],\n",
    "                                     song_name=song_name)\n",
    "                database.set_fingerprinted_flag()\n",
    "        pool.close()\n",
    "        pool.join()\n",
    "    \n",
    "\n",
    "\n",
    "def _fingerprint_worker(filename):\n",
    "    # Pool.imap sends arguments as tuples so we have to unpack\n",
    "    # them ourself.\n",
    "    try:\n",
    "        filename, limit, num = filename\n",
    "        song_name = None\n",
    "    except ValueError:\n",
    "        pass\n",
    "\n",
    "    songname, extension = os.path.splitext(os.path.basename(filename))\n",
    "    song_name = song_name or songname\n",
    "    channels, Fs = decoder.read(filename, limit)\n",
    "    result = set()\n",
    "    channel_amount = len(channels)\n",
    "\n",
    "    for channeln, channel in enumerate(channels):\n",
    "        # TODO: Remove prints or change them into optional logging.\n",
    "        print(\"Fingerprinting channel %d/%d for %s\" % (channeln + 1,\n",
    "                                                       channel_amount,\n",
    "                                                       filename))\n",
    "        hashes = fingerprint.fingerprint(channel, Fs=Fs)\n",
    "        print(\"Finished channel %d/%d for %s\" % (channeln + 1, channel_amount,\n",
    "                                                 filename))\n",
    "        result = set(hashes)\n",
    "\n",
    "    return song_name, result, num"
   ]
  },
  {
   "cell_type": "code",
   "execution_count": 17,
   "metadata": {
    "scrolled": false
   },
   "outputs": [
    {
     "name": "stdout",
     "output_type": "stream",
     "text": [
      "b'33B9B8622EF68CBCC6B9775A56A141673EB265C4' Adhuro Prem\n",
      "b'1211BA4E4D6A74C99EAD91E31E055E975CCBD942' sfd\n",
      "b'784C30646AC349BA162159E49B6170FCDD698BF0' The Nights\n",
      "b'13F1B4866A723FD0D487691B1AB50D1FAE62D5F9' Waiting for Love\n",
      "{'33B9B8622EF68CBCC6B9775A56A141673EB265C4', '1211BA4E4D6A74C99EAD91E31E055E975CCBD942', '784C30646AC349BA162159E49B6170FCDD698BF0', '13F1B4866A723FD0D487691B1AB50D1FAE62D5F9'}\n",
      "['/home/unique/Documents/Meta-Music/mp3/Waiting for Love.mp3', '/home/unique/Documents/Meta-Music/mp3/The Nights.mp3', '/home/unique/Documents/Meta-Music/mp3/aaa.mp3', '/home/unique/Documents/Meta-Music/mp3/Adhuro Prem.mp3']\n",
      "['13F1B4866A723FD0D487691B1AB50D1FAE62D5F9', '784C30646AC349BA162159E49B6170FCDD698BF0', '1211BA4E4D6A74C99EAD91E31E055E975CCBD942', '33B9B8622EF68CBCC6B9775A56A141673EB265C4']\n",
      "13F1B4866A723FD0D487691B1AB50D1FAE62D5F9 already fingerprinted, continuing...\n",
      "784C30646AC349BA162159E49B6170FCDD698BF0 already fingerprinted, continuing...\n",
      "1211BA4E4D6A74C99EAD91E31E055E975CCBD942 already fingerprinted, continuing...\n",
      "33B9B8622EF68CBCC6B9775A56A141673EB265C4 already fingerprinted, continuing...\n",
      "added\n"
     ]
    }
   ],
   "source": [
    "m=MetaMusic(10)\n",
    "m.fingerprint_directory('/home/unique/Documents/Meta-Music/mp3',['.mp3'])"
   ]
  },
  {
   "cell_type": "code",
   "execution_count": 16,
   "metadata": {},
   "outputs": [],
   "source": [
    "# // Database end\n",
    "a,b=database.loadSession()"
   ]
  },
  {
   "cell_type": "code",
   "execution_count": 21,
   "metadata": {},
   "outputs": [
    {
     "name": "stdout",
     "output_type": "stream",
     "text": [
      "b'012B5798EEA933F6832CFA8A71758BFF55F136D0'\n"
     ]
    }
   ],
   "source": []
  },
  {
   "cell_type": "code",
   "execution_count": 9,
   "metadata": {},
   "outputs": [],
   "source": []
  },
  {
   "cell_type": "code",
   "execution_count": null,
   "metadata": {},
   "outputs": [],
   "source": []
  }
 ],
 "metadata": {
  "kernelspec": {
   "display_name": "Python 3",
   "language": "python",
   "name": "python3"
  },
  "language_info": {
   "codemirror_mode": {
    "name": "ipython",
    "version": 3
   },
   "file_extension": ".py",
   "mimetype": "text/x-python",
   "name": "python",
   "nbconvert_exporter": "python",
   "pygments_lexer": "ipython3",
   "version": "3.6.3"
  }
 },
 "nbformat": 4,
 "nbformat_minor": 2
}
